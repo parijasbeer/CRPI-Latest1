{
 "cells": [
  {
   "cell_type": "markdown",
   "metadata": {},
   "source": [
    "**Program Goal: To rearrange the given input data file (CRPI-Main.csv) and write the rearranged output file (CRPI-Mod.csv) so that the resulting output file can be used effectively by other programs in this project**"
   ]
  },
  {
   "cell_type": "markdown",
   "metadata": {
    "id": "2GngkOcP4Pxi"
   },
   "source": [
    "**1) Import the required Python Packages/ Libraries**"
   ]
  },
  {
   "cell_type": "code",
   "execution_count": 1,
   "metadata": {},
   "outputs": [],
   "source": [
    "#Import required python packages\n",
    "import pandas as pd\n",
    "import warnings\n",
    "warnings.filterwarnings(\"ignore\")"
   ]
  },
  {
   "cell_type": "markdown",
   "metadata": {
    "id": "Y3DiPDcD4eDR"
   },
   "source": [
    "**2) Read the Data file and check**"
   ]
  },
  {
   "cell_type": "code",
   "execution_count": 20,
   "metadata": {
    "colab": {
     "base_uri": "https://localhost:8080/",
     "height": 223
    },
    "executionInfo": {
     "elapsed": 1559,
     "status": "ok",
     "timestamp": 1689662266497,
     "user": {
      "displayName": "Muthuram Govindarasu",
      "userId": "00319210141747141536"
     },
     "user_tz": -330
    },
    "id": "aIhTjhU0al9e",
    "outputId": "202bee29-d33c-4a9b-cfda-6a1f5cabd4dc"
   },
   "outputs": [],
   "source": [
    "# Read the input data file and save it in a Pandas dataframe format \n",
    "df = pd.read_csv('D:/CRPI-Latest1/Data-Files/CRPI-Main.csv')"
   ]
  },
  {
   "cell_type": "code",
   "execution_count": 21,
   "metadata": {},
   "outputs": [
    {
     "data": {
      "text/plain": [
       "(152, 13)"
      ]
     },
     "execution_count": 21,
     "metadata": {},
     "output_type": "execute_result"
    }
   ],
   "source": [
    "# Check the number of rows and columns of the input file dataframe\n",
    "df.shape"
   ]
  },
  {
   "cell_type": "code",
   "execution_count": 4,
   "metadata": {},
   "outputs": [
    {
     "data": {
      "text/html": [
       "<div>\n",
       "<style scoped>\n",
       "    .dataframe tbody tr th:only-of-type {\n",
       "        vertical-align: middle;\n",
       "    }\n",
       "\n",
       "    .dataframe tbody tr th {\n",
       "        vertical-align: top;\n",
       "    }\n",
       "\n",
       "    .dataframe thead th {\n",
       "        text-align: right;\n",
       "    }\n",
       "</style>\n",
       "<table border=\"1\" class=\"dataframe\">\n",
       "  <thead>\n",
       "    <tr style=\"text-align: right;\">\n",
       "      <th></th>\n",
       "      <th>Year</th>\n",
       "      <th>City</th>\n",
       "      <th>Population (in Lakhs) (2011)+</th>\n",
       "      <th>Murder</th>\n",
       "      <th>Kidnapping</th>\n",
       "      <th>Crime against women</th>\n",
       "      <th>Crime against children</th>\n",
       "      <th>Crime Committed by Juveniles</th>\n",
       "      <th>Crime against Senior Citizen</th>\n",
       "      <th>Crime against SC</th>\n",
       "      <th>Crime against ST</th>\n",
       "      <th>Economic Offences</th>\n",
       "      <th>Cyber Crimes</th>\n",
       "    </tr>\n",
       "  </thead>\n",
       "  <tbody>\n",
       "    <tr>\n",
       "      <th>0</th>\n",
       "      <td>2014</td>\n",
       "      <td>Ahmedabad</td>\n",
       "      <td>63.5</td>\n",
       "      <td>82</td>\n",
       "      <td>367</td>\n",
       "      <td>1371</td>\n",
       "      <td>437</td>\n",
       "      <td>215</td>\n",
       "      <td>68</td>\n",
       "      <td>66</td>\n",
       "      <td>6</td>\n",
       "      <td>399</td>\n",
       "      <td>32</td>\n",
       "    </tr>\n",
       "    <tr>\n",
       "      <th>1</th>\n",
       "      <td>2015</td>\n",
       "      <td>Ahmedabad</td>\n",
       "      <td>63.5</td>\n",
       "      <td>94</td>\n",
       "      <td>332</td>\n",
       "      <td>1067</td>\n",
       "      <td>609</td>\n",
       "      <td>157</td>\n",
       "      <td>17</td>\n",
       "      <td>60</td>\n",
       "      <td>9</td>\n",
       "      <td>378</td>\n",
       "      <td>28</td>\n",
       "    </tr>\n",
       "    <tr>\n",
       "      <th>2</th>\n",
       "      <td>2016</td>\n",
       "      <td>Ahmedabad</td>\n",
       "      <td>63.5</td>\n",
       "      <td>103</td>\n",
       "      <td>376</td>\n",
       "      <td>1126</td>\n",
       "      <td>481</td>\n",
       "      <td>258</td>\n",
       "      <td>362</td>\n",
       "      <td>96</td>\n",
       "      <td>10</td>\n",
       "      <td>479</td>\n",
       "      <td>77</td>\n",
       "    </tr>\n",
       "    <tr>\n",
       "      <th>3</th>\n",
       "      <td>2017</td>\n",
       "      <td>Ahmedabad</td>\n",
       "      <td>63.5</td>\n",
       "      <td>90</td>\n",
       "      <td>263</td>\n",
       "      <td>1405</td>\n",
       "      <td>600</td>\n",
       "      <td>405</td>\n",
       "      <td>534</td>\n",
       "      <td>119</td>\n",
       "      <td>6</td>\n",
       "      <td>608</td>\n",
       "      <td>112</td>\n",
       "    </tr>\n",
       "    <tr>\n",
       "      <th>4</th>\n",
       "      <td>2018</td>\n",
       "      <td>Ahmedabad</td>\n",
       "      <td>63.5</td>\n",
       "      <td>98</td>\n",
       "      <td>277</td>\n",
       "      <td>1416</td>\n",
       "      <td>733</td>\n",
       "      <td>352</td>\n",
       "      <td>733</td>\n",
       "      <td>145</td>\n",
       "      <td>9</td>\n",
       "      <td>842</td>\n",
       "      <td>212</td>\n",
       "    </tr>\n",
       "  </tbody>\n",
       "</table>\n",
       "</div>"
      ],
      "text/plain": [
       "   Year       City  Population (in Lakhs) (2011)+  Murder  Kidnapping  \\\n",
       "0  2014  Ahmedabad                           63.5      82         367   \n",
       "1  2015  Ahmedabad                           63.5      94         332   \n",
       "2  2016  Ahmedabad                           63.5     103         376   \n",
       "3  2017  Ahmedabad                           63.5      90         263   \n",
       "4  2018  Ahmedabad                           63.5      98         277   \n",
       "\n",
       "   Crime against women  Crime against children  Crime Committed by Juveniles  \\\n",
       "0                 1371                     437                           215   \n",
       "1                 1067                     609                           157   \n",
       "2                 1126                     481                           258   \n",
       "3                 1405                     600                           405   \n",
       "4                 1416                     733                           352   \n",
       "\n",
       "   Crime against Senior Citizen  Crime against SC  Crime against ST  \\\n",
       "0                            68                66                 6   \n",
       "1                            17                60                 9   \n",
       "2                           362                96                10   \n",
       "3                           534               119                 6   \n",
       "4                           733               145                 9   \n",
       "\n",
       "   Economic Offences  Cyber Crimes  \n",
       "0                399            32  \n",
       "1                378            28  \n",
       "2                479            77  \n",
       "3                608           112  \n",
       "4                842           212  "
      ]
     },
     "execution_count": 4,
     "metadata": {},
     "output_type": "execute_result"
    }
   ],
   "source": [
    "# Display the first 5 records of the input file Dataframe\n",
    "df.head()"
   ]
  },
  {
   "cell_type": "code",
   "execution_count": 5,
   "metadata": {},
   "outputs": [
    {
     "data": {
      "text/html": [
       "<div>\n",
       "<style scoped>\n",
       "    .dataframe tbody tr th:only-of-type {\n",
       "        vertical-align: middle;\n",
       "    }\n",
       "\n",
       "    .dataframe tbody tr th {\n",
       "        vertical-align: top;\n",
       "    }\n",
       "\n",
       "    .dataframe thead th {\n",
       "        text-align: right;\n",
       "    }\n",
       "</style>\n",
       "<table border=\"1\" class=\"dataframe\">\n",
       "  <thead>\n",
       "    <tr style=\"text-align: right;\">\n",
       "      <th></th>\n",
       "      <th>Year</th>\n",
       "      <th>City</th>\n",
       "      <th>Population (in Lakhs) (2011)+</th>\n",
       "      <th>Murder</th>\n",
       "      <th>Kidnapping</th>\n",
       "      <th>Crime against women</th>\n",
       "      <th>Crime against children</th>\n",
       "      <th>Crime Committed by Juveniles</th>\n",
       "      <th>Crime against Senior Citizen</th>\n",
       "      <th>Crime against SC</th>\n",
       "      <th>Crime against ST</th>\n",
       "      <th>Economic Offences</th>\n",
       "      <th>Cyber Crimes</th>\n",
       "    </tr>\n",
       "  </thead>\n",
       "  <tbody>\n",
       "    <tr>\n",
       "      <th>147</th>\n",
       "      <td>2017</td>\n",
       "      <td>Surat</td>\n",
       "      <td>45.8</td>\n",
       "      <td>89</td>\n",
       "      <td>332</td>\n",
       "      <td>559</td>\n",
       "      <td>526</td>\n",
       "      <td>436</td>\n",
       "      <td>131</td>\n",
       "      <td>32</td>\n",
       "      <td>10</td>\n",
       "      <td>719</td>\n",
       "      <td>105</td>\n",
       "    </tr>\n",
       "    <tr>\n",
       "      <th>148</th>\n",
       "      <td>2018</td>\n",
       "      <td>Surat</td>\n",
       "      <td>45.8</td>\n",
       "      <td>108</td>\n",
       "      <td>373</td>\n",
       "      <td>712</td>\n",
       "      <td>1075</td>\n",
       "      <td>409</td>\n",
       "      <td>161</td>\n",
       "      <td>29</td>\n",
       "      <td>13</td>\n",
       "      <td>829</td>\n",
       "      <td>155</td>\n",
       "    </tr>\n",
       "    <tr>\n",
       "      <th>149</th>\n",
       "      <td>2019</td>\n",
       "      <td>Surat</td>\n",
       "      <td>45.8</td>\n",
       "      <td>97</td>\n",
       "      <td>358</td>\n",
       "      <td>1015</td>\n",
       "      <td>770</td>\n",
       "      <td>516</td>\n",
       "      <td>232</td>\n",
       "      <td>34</td>\n",
       "      <td>19</td>\n",
       "      <td>804</td>\n",
       "      <td>228</td>\n",
       "    </tr>\n",
       "    <tr>\n",
       "      <th>150</th>\n",
       "      <td>2020</td>\n",
       "      <td>Surat</td>\n",
       "      <td>45.8</td>\n",
       "      <td>116</td>\n",
       "      <td>163</td>\n",
       "      <td>633</td>\n",
       "      <td>419</td>\n",
       "      <td>298</td>\n",
       "      <td>69</td>\n",
       "      <td>20</td>\n",
       "      <td>12</td>\n",
       "      <td>401</td>\n",
       "      <td>204</td>\n",
       "    </tr>\n",
       "    <tr>\n",
       "      <th>151</th>\n",
       "      <td>2021</td>\n",
       "      <td>Surat</td>\n",
       "      <td>45.8</td>\n",
       "      <td>121</td>\n",
       "      <td>270</td>\n",
       "      <td>622</td>\n",
       "      <td>479</td>\n",
       "      <td>355</td>\n",
       "      <td>66</td>\n",
       "      <td>22</td>\n",
       "      <td>19</td>\n",
       "      <td>663</td>\n",
       "      <td>296</td>\n",
       "    </tr>\n",
       "  </tbody>\n",
       "</table>\n",
       "</div>"
      ],
      "text/plain": [
       "     Year   City  Population (in Lakhs) (2011)+  Murder  Kidnapping  \\\n",
       "147  2017  Surat                           45.8      89         332   \n",
       "148  2018  Surat                           45.8     108         373   \n",
       "149  2019  Surat                           45.8      97         358   \n",
       "150  2020  Surat                           45.8     116         163   \n",
       "151  2021  Surat                           45.8     121         270   \n",
       "\n",
       "     Crime against women  Crime against children  \\\n",
       "147                  559                     526   \n",
       "148                  712                    1075   \n",
       "149                 1015                     770   \n",
       "150                  633                     419   \n",
       "151                  622                     479   \n",
       "\n",
       "     Crime Committed by Juveniles  Crime against Senior Citizen  \\\n",
       "147                           436                           131   \n",
       "148                           409                           161   \n",
       "149                           516                           232   \n",
       "150                           298                            69   \n",
       "151                           355                            66   \n",
       "\n",
       "     Crime against SC  Crime against ST  Economic Offences  Cyber Crimes  \n",
       "147                32                10                719           105  \n",
       "148                29                13                829           155  \n",
       "149                34                19                804           228  \n",
       "150                20                12                401           204  \n",
       "151                22                19                663           296  "
      ]
     },
     "execution_count": 5,
     "metadata": {},
     "output_type": "execute_result"
    }
   ],
   "source": [
    "# Display the last 5 records of the input file Dataframe\n",
    "df.tail()"
   ]
  },
  {
   "cell_type": "code",
   "execution_count": 6,
   "metadata": {},
   "outputs": [
    {
     "name": "stdout",
     "output_type": "stream",
     "text": [
      "<class 'pandas.core.frame.DataFrame'>\n",
      "RangeIndex: 152 entries, 0 to 151\n",
      "Data columns (total 13 columns):\n",
      " #   Column                         Non-Null Count  Dtype  \n",
      "---  ------                         --------------  -----  \n",
      " 0   Year                           152 non-null    int64  \n",
      " 1   City                           152 non-null    object \n",
      " 2   Population (in Lakhs) (2011)+  152 non-null    float64\n",
      " 3   Murder                         152 non-null    int64  \n",
      " 4   Kidnapping                     152 non-null    int64  \n",
      " 5   Crime against women            152 non-null    int64  \n",
      " 6   Crime against children         152 non-null    int64  \n",
      " 7   Crime Committed by Juveniles   152 non-null    int64  \n",
      " 8   Crime against Senior Citizen   152 non-null    int64  \n",
      " 9   Crime against SC               152 non-null    int64  \n",
      " 10  Crime against ST               152 non-null    int64  \n",
      " 11  Economic Offences              152 non-null    int64  \n",
      " 12  Cyber Crimes                   152 non-null    int64  \n",
      "dtypes: float64(1), int64(11), object(1)\n",
      "memory usage: 15.6+ KB\n"
     ]
    }
   ],
   "source": [
    "# Display the complete information about the the input file Dataframe\n",
    "df.info()"
   ]
  },
  {
   "cell_type": "code",
   "execution_count": 7,
   "metadata": {},
   "outputs": [
    {
     "data": {
      "text/plain": [
       "Year                             0\n",
       "City                             0\n",
       "Population (in Lakhs) (2011)+    0\n",
       "Murder                           0\n",
       "Kidnapping                       0\n",
       "Crime against women              0\n",
       "Crime against children           0\n",
       "Crime Committed by Juveniles     0\n",
       "Crime against Senior Citizen     0\n",
       "Crime against SC                 0\n",
       "Crime against ST                 0\n",
       "Economic Offences                0\n",
       "Cyber Crimes                     0\n",
       "dtype: int64"
      ]
     },
     "execution_count": 7,
     "metadata": {},
     "output_type": "execute_result"
    }
   ],
   "source": [
    "# Checking for columnwise missing data\n",
    "df.isnull().sum()"
   ]
  },
  {
   "cell_type": "markdown",
   "metadata": {},
   "source": [
    "**Note: There is no missing values in the given input data file**"
   ]
  },
  {
   "cell_type": "code",
   "execution_count": 8,
   "metadata": {
    "colab": {
     "base_uri": "https://localhost:8080/"
    },
    "executionInfo": {
     "elapsed": 404,
     "status": "ok",
     "timestamp": 1689662295265,
     "user": {
      "displayName": "Muthuram Govindarasu",
      "userId": "00319210141747141536"
     },
     "user_tz": -330
    },
    "id": "4MJSKFY2890-",
    "outputId": "2d33688e-efe1-47cd-9a97-14ca2f3704bc"
   },
   "outputs": [
    {
     "data": {
      "text/plain": [
       "(152, 13)"
      ]
     },
     "execution_count": 8,
     "metadata": {},
     "output_type": "execute_result"
    }
   ],
   "source": [
    "# Checking and removing Duplicate records, if any\n",
    "df.shape"
   ]
  },
  {
   "cell_type": "code",
   "execution_count": 9,
   "metadata": {
    "executionInfo": {
     "elapsed": 389,
     "status": "ok",
     "timestamp": 1689662299080,
     "user": {
      "displayName": "Muthuram Govindarasu",
      "userId": "00319210141747141536"
     },
     "user_tz": -330
    },
    "id": "Nt36o5TU87ip"
   },
   "outputs": [],
   "source": [
    "# Checking and removing Duplciate records, if any\n",
    "df.drop_duplicates(inplace = True)"
   ]
  },
  {
   "cell_type": "code",
   "execution_count": 10,
   "metadata": {
    "colab": {
     "base_uri": "https://localhost:8080/"
    },
    "executionInfo": {
     "elapsed": 376,
     "status": "ok",
     "timestamp": 1689662301812,
     "user": {
      "displayName": "Muthuram Govindarasu",
      "userId": "00319210141747141536"
     },
     "user_tz": -330
    },
    "id": "ABx2aDc09BE0",
    "outputId": "3aaac74b-e228-4680-ef84-886d6f7d5b59"
   },
   "outputs": [
    {
     "data": {
      "text/plain": [
       "(152, 13)"
      ]
     },
     "execution_count": 10,
     "metadata": {},
     "output_type": "execute_result"
    }
   ],
   "source": [
    "# Checking and removing Duplicate records, if any\n",
    "df.shape"
   ]
  },
  {
   "cell_type": "markdown",
   "metadata": {},
   "source": [
    "**Note: The total number of rows of data before and after executing duplicate records removal command are same. Hence there are no duplciate records in the given input file**"
   ]
  },
  {
   "cell_type": "markdown",
   "metadata": {},
   "source": [
    "**4) Rearrange the Input file data and columns**"
   ]
  },
  {
   "cell_type": "code",
   "execution_count": 11,
   "metadata": {},
   "outputs": [],
   "source": [
    "# Rearranging the data and columns in the input file dataframe so that\n",
    "# it will be easy to use it in the ML Model\n",
    "new_df = pd.DataFrame(columns=['Year', 'City', 'Population (in Lakhs) (2011)+', 'Number Of Cases', 'Type'])\n",
    "for i in range(3, 13):\n",
    "    temp = df[['Year', 'City', 'Population (in Lakhs) (2011)+']].copy()\n",
    "    temp['Number Of Cases'] = df[[df.columns[i]]]\n",
    "    temp['Type'] = df.columns[i]\n",
    "    \n",
    "    new_df = pd.concat([new_df, temp])"
   ]
  },
  {
   "cell_type": "code",
   "execution_count": 12,
   "metadata": {},
   "outputs": [
    {
     "data": {
      "text/html": [
       "<div>\n",
       "<style scoped>\n",
       "    .dataframe tbody tr th:only-of-type {\n",
       "        vertical-align: middle;\n",
       "    }\n",
       "\n",
       "    .dataframe tbody tr th {\n",
       "        vertical-align: top;\n",
       "    }\n",
       "\n",
       "    .dataframe thead th {\n",
       "        text-align: right;\n",
       "    }\n",
       "</style>\n",
       "<table border=\"1\" class=\"dataframe\">\n",
       "  <thead>\n",
       "    <tr style=\"text-align: right;\">\n",
       "      <th></th>\n",
       "      <th>Year</th>\n",
       "      <th>City</th>\n",
       "      <th>Population (in Lakhs) (2011)+</th>\n",
       "      <th>Number Of Cases</th>\n",
       "      <th>Type</th>\n",
       "    </tr>\n",
       "  </thead>\n",
       "  <tbody>\n",
       "    <tr>\n",
       "      <th>0</th>\n",
       "      <td>2014</td>\n",
       "      <td>Ahmedabad</td>\n",
       "      <td>63.5</td>\n",
       "      <td>82</td>\n",
       "      <td>Murder</td>\n",
       "    </tr>\n",
       "    <tr>\n",
       "      <th>1</th>\n",
       "      <td>2015</td>\n",
       "      <td>Ahmedabad</td>\n",
       "      <td>63.5</td>\n",
       "      <td>94</td>\n",
       "      <td>Murder</td>\n",
       "    </tr>\n",
       "    <tr>\n",
       "      <th>2</th>\n",
       "      <td>2016</td>\n",
       "      <td>Ahmedabad</td>\n",
       "      <td>63.5</td>\n",
       "      <td>103</td>\n",
       "      <td>Murder</td>\n",
       "    </tr>\n",
       "    <tr>\n",
       "      <th>3</th>\n",
       "      <td>2017</td>\n",
       "      <td>Ahmedabad</td>\n",
       "      <td>63.5</td>\n",
       "      <td>90</td>\n",
       "      <td>Murder</td>\n",
       "    </tr>\n",
       "    <tr>\n",
       "      <th>4</th>\n",
       "      <td>2018</td>\n",
       "      <td>Ahmedabad</td>\n",
       "      <td>63.5</td>\n",
       "      <td>98</td>\n",
       "      <td>Murder</td>\n",
       "    </tr>\n",
       "    <tr>\n",
       "      <th>...</th>\n",
       "      <td>...</td>\n",
       "      <td>...</td>\n",
       "      <td>...</td>\n",
       "      <td>...</td>\n",
       "      <td>...</td>\n",
       "    </tr>\n",
       "    <tr>\n",
       "      <th>147</th>\n",
       "      <td>2017</td>\n",
       "      <td>Surat</td>\n",
       "      <td>45.8</td>\n",
       "      <td>105</td>\n",
       "      <td>Cyber Crimes</td>\n",
       "    </tr>\n",
       "    <tr>\n",
       "      <th>148</th>\n",
       "      <td>2018</td>\n",
       "      <td>Surat</td>\n",
       "      <td>45.8</td>\n",
       "      <td>155</td>\n",
       "      <td>Cyber Crimes</td>\n",
       "    </tr>\n",
       "    <tr>\n",
       "      <th>149</th>\n",
       "      <td>2019</td>\n",
       "      <td>Surat</td>\n",
       "      <td>45.8</td>\n",
       "      <td>228</td>\n",
       "      <td>Cyber Crimes</td>\n",
       "    </tr>\n",
       "    <tr>\n",
       "      <th>150</th>\n",
       "      <td>2020</td>\n",
       "      <td>Surat</td>\n",
       "      <td>45.8</td>\n",
       "      <td>204</td>\n",
       "      <td>Cyber Crimes</td>\n",
       "    </tr>\n",
       "    <tr>\n",
       "      <th>151</th>\n",
       "      <td>2021</td>\n",
       "      <td>Surat</td>\n",
       "      <td>45.8</td>\n",
       "      <td>296</td>\n",
       "      <td>Cyber Crimes</td>\n",
       "    </tr>\n",
       "  </tbody>\n",
       "</table>\n",
       "<p>1520 rows × 5 columns</p>\n",
       "</div>"
      ],
      "text/plain": [
       "     Year       City  Population (in Lakhs) (2011)+ Number Of Cases  \\\n",
       "0    2014  Ahmedabad                           63.5              82   \n",
       "1    2015  Ahmedabad                           63.5              94   \n",
       "2    2016  Ahmedabad                           63.5             103   \n",
       "3    2017  Ahmedabad                           63.5              90   \n",
       "4    2018  Ahmedabad                           63.5              98   \n",
       "..    ...        ...                            ...             ...   \n",
       "147  2017      Surat                           45.8             105   \n",
       "148  2018      Surat                           45.8             155   \n",
       "149  2019      Surat                           45.8             228   \n",
       "150  2020      Surat                           45.8             204   \n",
       "151  2021      Surat                           45.8             296   \n",
       "\n",
       "             Type  \n",
       "0          Murder  \n",
       "1          Murder  \n",
       "2          Murder  \n",
       "3          Murder  \n",
       "4          Murder  \n",
       "..            ...  \n",
       "147  Cyber Crimes  \n",
       "148  Cyber Crimes  \n",
       "149  Cyber Crimes  \n",
       "150  Cyber Crimes  \n",
       "151  Cyber Crimes  \n",
       "\n",
       "[1520 rows x 5 columns]"
      ]
     },
     "execution_count": 12,
     "metadata": {},
     "output_type": "execute_result"
    }
   ],
   "source": [
    "# Rearranging the data and columns in the input file dataframe so that\n",
    "# it will be easy to use it in the ML Model\n",
    "new_df"
   ]
  },
  {
   "cell_type": "code",
   "execution_count": 13,
   "metadata": {},
   "outputs": [],
   "source": [
    "# Rearranging the data and columns in the input file dataframe so that\n",
    "# it will be easy to use it in the ML Model\n",
    "new_df['Crime Rate'] = new_df['Number Of Cases'] / new_df['Population (in Lakhs) (2011)+']"
   ]
  },
  {
   "cell_type": "code",
   "execution_count": 14,
   "metadata": {},
   "outputs": [
    {
     "name": "stdout",
     "output_type": "stream",
     "text": [
      "<class 'pandas.core.frame.DataFrame'>\n",
      "Index: 1520 entries, 0 to 151\n",
      "Data columns (total 6 columns):\n",
      " #   Column                         Non-Null Count  Dtype  \n",
      "---  ------                         --------------  -----  \n",
      " 0   Year                           1520 non-null   object \n",
      " 1   City                           1520 non-null   object \n",
      " 2   Population (in Lakhs) (2011)+  1520 non-null   float64\n",
      " 3   Number Of Cases                1520 non-null   object \n",
      " 4   Type                           1520 non-null   object \n",
      " 5   Crime Rate                     1520 non-null   object \n",
      "dtypes: float64(1), object(5)\n",
      "memory usage: 83.1+ KB\n"
     ]
    }
   ],
   "source": [
    "# Rearranging the data and columns in the input file dataframe so that\n",
    "# it will be easy to use it in the ML Model\n",
    "new_df.info()"
   ]
  },
  {
   "cell_type": "code",
   "execution_count": 15,
   "metadata": {},
   "outputs": [
    {
     "data": {
      "text/html": [
       "<div>\n",
       "<style scoped>\n",
       "    .dataframe tbody tr th:only-of-type {\n",
       "        vertical-align: middle;\n",
       "    }\n",
       "\n",
       "    .dataframe tbody tr th {\n",
       "        vertical-align: top;\n",
       "    }\n",
       "\n",
       "    .dataframe thead th {\n",
       "        text-align: right;\n",
       "    }\n",
       "</style>\n",
       "<table border=\"1\" class=\"dataframe\">\n",
       "  <thead>\n",
       "    <tr style=\"text-align: right;\">\n",
       "      <th></th>\n",
       "      <th>Year</th>\n",
       "      <th>City</th>\n",
       "      <th>Population (in Lakhs) (2011)+</th>\n",
       "      <th>Number Of Cases</th>\n",
       "      <th>Type</th>\n",
       "      <th>Crime Rate</th>\n",
       "    </tr>\n",
       "  </thead>\n",
       "  <tbody>\n",
       "    <tr>\n",
       "      <th>0</th>\n",
       "      <td>2014</td>\n",
       "      <td>Ahmedabad</td>\n",
       "      <td>63.5</td>\n",
       "      <td>82</td>\n",
       "      <td>Murder</td>\n",
       "      <td>1.291339</td>\n",
       "    </tr>\n",
       "    <tr>\n",
       "      <th>1</th>\n",
       "      <td>2015</td>\n",
       "      <td>Ahmedabad</td>\n",
       "      <td>63.5</td>\n",
       "      <td>94</td>\n",
       "      <td>Murder</td>\n",
       "      <td>1.480315</td>\n",
       "    </tr>\n",
       "    <tr>\n",
       "      <th>2</th>\n",
       "      <td>2016</td>\n",
       "      <td>Ahmedabad</td>\n",
       "      <td>63.5</td>\n",
       "      <td>103</td>\n",
       "      <td>Murder</td>\n",
       "      <td>1.622047</td>\n",
       "    </tr>\n",
       "    <tr>\n",
       "      <th>3</th>\n",
       "      <td>2017</td>\n",
       "      <td>Ahmedabad</td>\n",
       "      <td>63.5</td>\n",
       "      <td>90</td>\n",
       "      <td>Murder</td>\n",
       "      <td>1.417323</td>\n",
       "    </tr>\n",
       "    <tr>\n",
       "      <th>4</th>\n",
       "      <td>2018</td>\n",
       "      <td>Ahmedabad</td>\n",
       "      <td>63.5</td>\n",
       "      <td>98</td>\n",
       "      <td>Murder</td>\n",
       "      <td>1.543307</td>\n",
       "    </tr>\n",
       "    <tr>\n",
       "      <th>...</th>\n",
       "      <td>...</td>\n",
       "      <td>...</td>\n",
       "      <td>...</td>\n",
       "      <td>...</td>\n",
       "      <td>...</td>\n",
       "      <td>...</td>\n",
       "    </tr>\n",
       "    <tr>\n",
       "      <th>147</th>\n",
       "      <td>2017</td>\n",
       "      <td>Surat</td>\n",
       "      <td>45.8</td>\n",
       "      <td>105</td>\n",
       "      <td>Cyber Crimes</td>\n",
       "      <td>2.292576</td>\n",
       "    </tr>\n",
       "    <tr>\n",
       "      <th>148</th>\n",
       "      <td>2018</td>\n",
       "      <td>Surat</td>\n",
       "      <td>45.8</td>\n",
       "      <td>155</td>\n",
       "      <td>Cyber Crimes</td>\n",
       "      <td>3.384279</td>\n",
       "    </tr>\n",
       "    <tr>\n",
       "      <th>149</th>\n",
       "      <td>2019</td>\n",
       "      <td>Surat</td>\n",
       "      <td>45.8</td>\n",
       "      <td>228</td>\n",
       "      <td>Cyber Crimes</td>\n",
       "      <td>4.978166</td>\n",
       "    </tr>\n",
       "    <tr>\n",
       "      <th>150</th>\n",
       "      <td>2020</td>\n",
       "      <td>Surat</td>\n",
       "      <td>45.8</td>\n",
       "      <td>204</td>\n",
       "      <td>Cyber Crimes</td>\n",
       "      <td>4.454148</td>\n",
       "    </tr>\n",
       "    <tr>\n",
       "      <th>151</th>\n",
       "      <td>2021</td>\n",
       "      <td>Surat</td>\n",
       "      <td>45.8</td>\n",
       "      <td>296</td>\n",
       "      <td>Cyber Crimes</td>\n",
       "      <td>6.462882</td>\n",
       "    </tr>\n",
       "  </tbody>\n",
       "</table>\n",
       "<p>1520 rows × 6 columns</p>\n",
       "</div>"
      ],
      "text/plain": [
       "     Year       City  Population (in Lakhs) (2011)+ Number Of Cases  \\\n",
       "0    2014  Ahmedabad                           63.5              82   \n",
       "1    2015  Ahmedabad                           63.5              94   \n",
       "2    2016  Ahmedabad                           63.5             103   \n",
       "3    2017  Ahmedabad                           63.5              90   \n",
       "4    2018  Ahmedabad                           63.5              98   \n",
       "..    ...        ...                            ...             ...   \n",
       "147  2017      Surat                           45.8             105   \n",
       "148  2018      Surat                           45.8             155   \n",
       "149  2019      Surat                           45.8             228   \n",
       "150  2020      Surat                           45.8             204   \n",
       "151  2021      Surat                           45.8             296   \n",
       "\n",
       "             Type Crime Rate  \n",
       "0          Murder   1.291339  \n",
       "1          Murder   1.480315  \n",
       "2          Murder   1.622047  \n",
       "3          Murder   1.417323  \n",
       "4          Murder   1.543307  \n",
       "..            ...        ...  \n",
       "147  Cyber Crimes   2.292576  \n",
       "148  Cyber Crimes   3.384279  \n",
       "149  Cyber Crimes   4.978166  \n",
       "150  Cyber Crimes   4.454148  \n",
       "151  Cyber Crimes   6.462882  \n",
       "\n",
       "[1520 rows x 6 columns]"
      ]
     },
     "execution_count": 15,
     "metadata": {},
     "output_type": "execute_result"
    }
   ],
   "source": [
    "# Rearranging the data and columns in the input file dataframe so that\n",
    "# it will be easy to use it in the ML Model\n",
    "new_df"
   ]
  },
  {
   "cell_type": "code",
   "execution_count": 16,
   "metadata": {},
   "outputs": [],
   "source": [
    "# Rearranging the data and columns in the input file dataframe so that\n",
    "# it will be easy to use it in the ML Model\n",
    "new_df = new_df.drop(['Number Of Cases'], axis=1)"
   ]
  },
  {
   "cell_type": "code",
   "execution_count": 17,
   "metadata": {},
   "outputs": [
    {
     "data": {
      "text/html": [
       "<div>\n",
       "<style scoped>\n",
       "    .dataframe tbody tr th:only-of-type {\n",
       "        vertical-align: middle;\n",
       "    }\n",
       "\n",
       "    .dataframe tbody tr th {\n",
       "        vertical-align: top;\n",
       "    }\n",
       "\n",
       "    .dataframe thead th {\n",
       "        text-align: right;\n",
       "    }\n",
       "</style>\n",
       "<table border=\"1\" class=\"dataframe\">\n",
       "  <thead>\n",
       "    <tr style=\"text-align: right;\">\n",
       "      <th></th>\n",
       "      <th>Year</th>\n",
       "      <th>City</th>\n",
       "      <th>Population (in Lakhs) (2011)+</th>\n",
       "      <th>Type</th>\n",
       "      <th>Crime Rate</th>\n",
       "    </tr>\n",
       "  </thead>\n",
       "  <tbody>\n",
       "    <tr>\n",
       "      <th>0</th>\n",
       "      <td>2014</td>\n",
       "      <td>Ahmedabad</td>\n",
       "      <td>63.5</td>\n",
       "      <td>Murder</td>\n",
       "      <td>1.291339</td>\n",
       "    </tr>\n",
       "    <tr>\n",
       "      <th>1</th>\n",
       "      <td>2015</td>\n",
       "      <td>Ahmedabad</td>\n",
       "      <td>63.5</td>\n",
       "      <td>Murder</td>\n",
       "      <td>1.480315</td>\n",
       "    </tr>\n",
       "    <tr>\n",
       "      <th>2</th>\n",
       "      <td>2016</td>\n",
       "      <td>Ahmedabad</td>\n",
       "      <td>63.5</td>\n",
       "      <td>Murder</td>\n",
       "      <td>1.622047</td>\n",
       "    </tr>\n",
       "    <tr>\n",
       "      <th>3</th>\n",
       "      <td>2017</td>\n",
       "      <td>Ahmedabad</td>\n",
       "      <td>63.5</td>\n",
       "      <td>Murder</td>\n",
       "      <td>1.417323</td>\n",
       "    </tr>\n",
       "    <tr>\n",
       "      <th>4</th>\n",
       "      <td>2018</td>\n",
       "      <td>Ahmedabad</td>\n",
       "      <td>63.5</td>\n",
       "      <td>Murder</td>\n",
       "      <td>1.543307</td>\n",
       "    </tr>\n",
       "    <tr>\n",
       "      <th>...</th>\n",
       "      <td>...</td>\n",
       "      <td>...</td>\n",
       "      <td>...</td>\n",
       "      <td>...</td>\n",
       "      <td>...</td>\n",
       "    </tr>\n",
       "    <tr>\n",
       "      <th>147</th>\n",
       "      <td>2017</td>\n",
       "      <td>Surat</td>\n",
       "      <td>45.8</td>\n",
       "      <td>Cyber Crimes</td>\n",
       "      <td>2.292576</td>\n",
       "    </tr>\n",
       "    <tr>\n",
       "      <th>148</th>\n",
       "      <td>2018</td>\n",
       "      <td>Surat</td>\n",
       "      <td>45.8</td>\n",
       "      <td>Cyber Crimes</td>\n",
       "      <td>3.384279</td>\n",
       "    </tr>\n",
       "    <tr>\n",
       "      <th>149</th>\n",
       "      <td>2019</td>\n",
       "      <td>Surat</td>\n",
       "      <td>45.8</td>\n",
       "      <td>Cyber Crimes</td>\n",
       "      <td>4.978166</td>\n",
       "    </tr>\n",
       "    <tr>\n",
       "      <th>150</th>\n",
       "      <td>2020</td>\n",
       "      <td>Surat</td>\n",
       "      <td>45.8</td>\n",
       "      <td>Cyber Crimes</td>\n",
       "      <td>4.454148</td>\n",
       "    </tr>\n",
       "    <tr>\n",
       "      <th>151</th>\n",
       "      <td>2021</td>\n",
       "      <td>Surat</td>\n",
       "      <td>45.8</td>\n",
       "      <td>Cyber Crimes</td>\n",
       "      <td>6.462882</td>\n",
       "    </tr>\n",
       "  </tbody>\n",
       "</table>\n",
       "<p>1520 rows × 5 columns</p>\n",
       "</div>"
      ],
      "text/plain": [
       "     Year       City  Population (in Lakhs) (2011)+          Type Crime Rate\n",
       "0    2014  Ahmedabad                           63.5        Murder   1.291339\n",
       "1    2015  Ahmedabad                           63.5        Murder   1.480315\n",
       "2    2016  Ahmedabad                           63.5        Murder   1.622047\n",
       "3    2017  Ahmedabad                           63.5        Murder   1.417323\n",
       "4    2018  Ahmedabad                           63.5        Murder   1.543307\n",
       "..    ...        ...                            ...           ...        ...\n",
       "147  2017      Surat                           45.8  Cyber Crimes   2.292576\n",
       "148  2018      Surat                           45.8  Cyber Crimes   3.384279\n",
       "149  2019      Surat                           45.8  Cyber Crimes   4.978166\n",
       "150  2020      Surat                           45.8  Cyber Crimes   4.454148\n",
       "151  2021      Surat                           45.8  Cyber Crimes   6.462882\n",
       "\n",
       "[1520 rows x 5 columns]"
      ]
     },
     "execution_count": 17,
     "metadata": {},
     "output_type": "execute_result"
    }
   ],
   "source": [
    "# Rearranging the data and columns in the input file dataframe so that\n",
    "# it will be easy to use it in the ML Model\n",
    "new_df"
   ]
  },
  {
   "cell_type": "markdown",
   "metadata": {},
   "source": [
    "**5) Write the rearranged input data file into the 'Data-Files' folder**"
   ]
  },
  {
   "cell_type": "code",
   "execution_count": 18,
   "metadata": {},
   "outputs": [],
   "source": [
    "# Writing the rearranged file into \"Data-files\" directory \n",
    "# for the usage of other programs\n",
    "new_df.to_csv(\"D:/CRPI-Latest1/Data-Files/CRPI-Mod.csv\", index=False)"
   ]
  }
 ],
 "metadata": {
  "colab": {
   "provenance": [
    {
     "file_id": "1ipO06zVqtZeZ9Wp8JNnTH4V7YQZ4Jq5D",
     "timestamp": 1625648964328
    },
    {
     "file_id": "1KzEYUgWl1JmzYgPcrLfTHdJBAM6DOXhG",
     "timestamp": 1625490867899
    },
    {
     "file_id": "1OOqtzmiF8g72tIWwt-KoH9NxjdJUjJXF",
     "timestamp": 1623997990612
    },
    {
     "file_id": "1oI1Am1OCigcaxlrIUMd3ulVS_KsZDNxX",
     "timestamp": 1622877821515
    },
    {
     "file_id": "1MQ2LVkTjeC9Ou8x1hBXju_f9UO4kMrtL",
     "timestamp": 1622820590628
    },
    {
     "file_id": "1lbkvpi1jTPd_kng-NjFxrXALeOVj9s4c",
     "timestamp": 1622732426665
    },
    {
     "file_id": "1SDQjNc9Z_CmlJlpRQgbIOeRlJi7oxAW0",
     "timestamp": 1622732112358
    },
    {
     "file_id": "1MD2RC8jeiqVECVj4X7c0SpiM9zUiy3bH",
     "timestamp": 1622731250927
    },
    {
     "file_id": "1oTQ64jIm3DhNBsfS0z5KrkuRRFawv_jZ",
     "timestamp": 1593090445186
    },
    {
     "file_id": "16AsI0RHTsHhiz-gjA7Qy_kRuzOh6wKXe",
     "timestamp": 1569855911832
    },
    {
     "file_id": "1Dps769gQH1CXgnG7u_ysH-5vV4ZkOEH0",
     "timestamp": 1569854349728
    },
    {
     "file_id": "1-RHHj9kgrHTGhiO0XOCUZCJceq2mb_BR",
     "timestamp": 1569840609628
    }
   ]
  },
  "kernelspec": {
   "display_name": "base",
   "language": "python",
   "name": "python3"
  },
  "language_info": {
   "codemirror_mode": {
    "name": "ipython",
    "version": 3
   },
   "file_extension": ".py",
   "mimetype": "text/x-python",
   "name": "python",
   "nbconvert_exporter": "python",
   "pygments_lexer": "ipython3",
   "version": "3.12.7"
  }
 },
 "nbformat": 4,
 "nbformat_minor": 0
}
